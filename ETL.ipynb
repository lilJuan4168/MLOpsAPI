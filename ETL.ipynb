{
 "cells": [
  {
   "attachments": {},
   "cell_type": "markdown",
   "metadata": {},
   "source": [
    "<h1>ETL</h1>"
   ]
  },
  {
   "cell_type": "code",
   "execution_count": 1,
   "metadata": {},
   "outputs": [],
   "source": [
    "#Import modules\n",
    "import numpy as np\n",
    "import pandas as pd"
   ]
  },
  {
   "attachments": {},
   "cell_type": "markdown",
   "metadata": {},
   "source": [
    "<h2>Platforms datasets</h2>"
   ]
  },
  {
   "cell_type": "code",
   "execution_count": null,
   "metadata": {},
   "outputs": [],
   "source": [
    "#Load the datasets\n",
    "amazon = pd.read_csv('datasets/amazon_prime_titles.csv')\n",
    "disney = pd.read_csv('datasets/disney_plus_titles.csv')\n",
    "hulu = pd.read_csv('datasets/hulu_titles.csv')\n",
    "netflix = pd.read_csv('datasets/netflix_titles.csv')"
   ]
  },
  {
   "cell_type": "code",
   "execution_count": null,
   "metadata": {},
   "outputs": [],
   "source": [
    "#Add new id column with the first letter of each platform union show_id\n",
    "amazon.insert(0, 'id', 'a' + amazon['show_id'].astype('string'))\n",
    "disney.insert(0, 'id', 'd' + disney['show_id'].astype('string'))\n",
    "hulu.insert(0, 'id', 'h' + hulu['show_id'].astype('string'))\n",
    "netflix.insert(0, 'id', 'n' + netflix['show_id'].astype('string'))\n"
   ]
  },
  {
   "cell_type": "code",
   "execution_count": 6,
   "metadata": {},
   "outputs": [],
   "source": [
    "#Fill with 'G' in empty rating column places\n",
    "amazon['rating'] = amazon['rating'].fillna('G')\n",
    "disney['rating'] = disney['rating'].fillna('G')\n",
    "hulu['rating'] = hulu['rating'].fillna('G')\n",
    "netflix['rating'] = netflix['rating'].fillna('G')\n"
   ]
  },
  {
   "cell_type": "code",
   "execution_count": 7,
   "metadata": {},
   "outputs": [],
   "source": [
    "#Transform dates in format yyy-mm-dd\n",
    "amazon['date_added'] = pd.to_datetime(amazon['date_added'])\n",
    "disney['date_added'] = pd.to_datetime(disney['date_added'])\n",
    "hulu['date_added'] = pd.to_datetime(hulu['date_added'])\n",
    "netflix['date_added'] = pd.to_datetime(netflix['date_added'])"
   ]
  },
  {
   "cell_type": "code",
   "execution_count": 8,
   "metadata": {},
   "outputs": [],
   "source": [
    "#Divide the column duration in duration_int and duration_type\n",
    "amazon[['duration_int', 'duration_type']] = amazon.duration.str.split(' ', expand=True)\n",
    "disney[['duration_int', 'duration_type']] = disney.duration.str.split(' ', expand=True)\n",
    "hulu[['duration_int', 'duration_type']] = hulu.duration.str.split(' ', expand=True)\n",
    "netflix[['duration_int', 'duration_type']] = netflix.duration.str.split(' ', expand=True)"
   ]
  },
  {
   "cell_type": "code",
   "execution_count": 9,
   "metadata": {},
   "outputs": [],
   "source": [
    "#Change the text in lower case\n",
    "listcolum = ['type','title','director','cast','country','listed_in','description','duration_type']\n",
    "for item in listcolum:\n",
    "    amazon[item] = amazon[item].str.lower()\n",
    "for item in listcolum:\n",
    "    disney[item] = disney[item].str.lower()\n",
    "for item in listcolum:\n",
    "    hulu[item] = hulu[item].astype('string') \n",
    "for item in listcolum:\n",
    "    hulu[item] = hulu[item].str.lower()  \n",
    "for item in listcolum:\n",
    "    netflix[item] = netflix[item].str.lower()      "
   ]
  },
  {
   "cell_type": "code",
   "execution_count": 6,
   "metadata": {},
   "outputs": [
    {
     "name": "stdout",
     "output_type": "stream",
     "text": [
      "<class 'pandas.core.frame.DataFrame'>\n",
      "RangeIndex: 9668 entries, 0 to 9667\n",
      "Data columns (total 15 columns):\n",
      " #   Column         Non-Null Count  Dtype         \n",
      "---  ------         --------------  -----         \n",
      " 0   id             9668 non-null   string        \n",
      " 1   show_id        9668 non-null   object        \n",
      " 2   type           9668 non-null   object        \n",
      " 3   title          9668 non-null   object        \n",
      " 4   director       7586 non-null   object        \n",
      " 5   cast           8435 non-null   object        \n",
      " 6   country        672 non-null    object        \n",
      " 7   date_added     155 non-null    datetime64[ns]\n",
      " 8   release_year   9668 non-null   int64         \n",
      " 9   rating         9668 non-null   object        \n",
      " 10  duration       9668 non-null   object        \n",
      " 11  listed_in      9668 non-null   object        \n",
      " 12  description    9668 non-null   object        \n",
      " 13  duration_int   9668 non-null   object        \n",
      " 14  duration_type  9668 non-null   object        \n",
      "dtypes: datetime64[ns](1), int64(1), object(12), string(1)\n",
      "memory usage: 1.1+ MB\n",
      "None\n"
     ]
    }
   ],
   "source": [
    "print(amazon.info())"
   ]
  },
  {
   "cell_type": "code",
   "execution_count": 7,
   "metadata": {},
   "outputs": [
    {
     "name": "stdout",
     "output_type": "stream",
     "text": [
      "<class 'pandas.core.frame.DataFrame'>\n",
      "RangeIndex: 1450 entries, 0 to 1449\n",
      "Data columns (total 15 columns):\n",
      " #   Column         Non-Null Count  Dtype         \n",
      "---  ------         --------------  -----         \n",
      " 0   id             1450 non-null   string        \n",
      " 1   show_id        1450 non-null   object        \n",
      " 2   type           1450 non-null   object        \n",
      " 3   title          1450 non-null   object        \n",
      " 4   director       977 non-null    object        \n",
      " 5   cast           1260 non-null   object        \n",
      " 6   country        1231 non-null   object        \n",
      " 7   date_added     1447 non-null   datetime64[ns]\n",
      " 8   release_year   1450 non-null   int64         \n",
      " 9   rating         1450 non-null   object        \n",
      " 10  duration       1450 non-null   object        \n",
      " 11  listed_in      1450 non-null   object        \n",
      " 12  description    1450 non-null   object        \n",
      " 13  duration_int   1450 non-null   object        \n",
      " 14  duration_type  1450 non-null   object        \n",
      "dtypes: datetime64[ns](1), int64(1), object(12), string(1)\n",
      "memory usage: 170.1+ KB\n",
      "None\n"
     ]
    }
   ],
   "source": [
    "print(disney.info())"
   ]
  },
  {
   "cell_type": "code",
   "execution_count": 8,
   "metadata": {},
   "outputs": [
    {
     "name": "stdout",
     "output_type": "stream",
     "text": [
      "<class 'pandas.core.frame.DataFrame'>\n",
      "RangeIndex: 3073 entries, 0 to 3072\n",
      "Data columns (total 15 columns):\n",
      " #   Column         Non-Null Count  Dtype         \n",
      "---  ------         --------------  -----         \n",
      " 0   id             3073 non-null   string        \n",
      " 1   show_id        3073 non-null   object        \n",
      " 2   type           3073 non-null   string        \n",
      " 3   title          3073 non-null   string        \n",
      " 4   director       3 non-null      string        \n",
      " 5   cast           0 non-null      string        \n",
      " 6   country        1620 non-null   string        \n",
      " 7   date_added     3045 non-null   datetime64[ns]\n",
      " 8   release_year   3073 non-null   int64         \n",
      " 9   rating         3073 non-null   object        \n",
      " 10  duration       2594 non-null   object        \n",
      " 11  listed_in      3073 non-null   string        \n",
      " 12  description    3069 non-null   string        \n",
      " 13  duration_int   2594 non-null   object        \n",
      " 14  duration_type  2594 non-null   string        \n",
      "dtypes: datetime64[ns](1), int64(1), object(4), string(9)\n",
      "memory usage: 360.2+ KB\n",
      "None\n"
     ]
    }
   ],
   "source": [
    "print(hulu.info())"
   ]
  },
  {
   "cell_type": "code",
   "execution_count": 9,
   "metadata": {},
   "outputs": [
    {
     "name": "stdout",
     "output_type": "stream",
     "text": [
      "<class 'pandas.core.frame.DataFrame'>\n",
      "RangeIndex: 8807 entries, 0 to 8806\n",
      "Data columns (total 15 columns):\n",
      " #   Column         Non-Null Count  Dtype         \n",
      "---  ------         --------------  -----         \n",
      " 0   id             8807 non-null   string        \n",
      " 1   show_id        8807 non-null   object        \n",
      " 2   type           8807 non-null   object        \n",
      " 3   title          8807 non-null   object        \n",
      " 4   director       6173 non-null   object        \n",
      " 5   cast           7982 non-null   object        \n",
      " 6   country        7976 non-null   object        \n",
      " 7   date_added     8797 non-null   datetime64[ns]\n",
      " 8   release_year   8807 non-null   int64         \n",
      " 9   rating         8807 non-null   object        \n",
      " 10  duration       8804 non-null   object        \n",
      " 11  listed_in      8807 non-null   object        \n",
      " 12  description    8807 non-null   object        \n",
      " 13  duration_int   8804 non-null   object        \n",
      " 14  duration_type  8804 non-null   object        \n",
      "dtypes: datetime64[ns](1), int64(1), object(12), string(1)\n",
      "memory usage: 1.0+ MB\n",
      "None\n"
     ]
    }
   ],
   "source": [
    "print(netflix.info())"
   ]
  },
  {
   "cell_type": "code",
   "execution_count": 3,
   "metadata": {},
   "outputs": [],
   "source": [
    "#fill null values from int type columns\n",
    "platforms = [amazon, disney, hulu, netflix]\n",
    "for plat in platforms:\n",
    "    plat['release_year'] = plat['release_year'].fillna(0)\n",
    "    plat['duration_int'] = plat['duration_int'].fillna(0)"
   ]
  },
  {
   "cell_type": "code",
   "execution_count": 4,
   "metadata": {},
   "outputs": [],
   "source": [
    "#fill null date values\n",
    "for plat in platforms:\n",
    "    plat['date_added'] = plat['date_added'].fillna('2000-12-12 00:00:00')"
   ]
  },
  {
   "cell_type": "code",
   "execution_count": 5,
   "metadata": {},
   "outputs": [],
   "source": [
    "#setting datatypes \n",
    "for rt in platforms:\n",
    "    rt['id'] = rt['id'].astype('str')\n",
    "    rt['show_id'] = rt['show_id'].astype('str')\n",
    "    rt['type'] = rt['type'].astype('str')\n",
    "    rt['title'] = rt['title'].astype('str')\n",
    "    rt['director'] = rt['director'].astype('str')\n",
    "    rt['cast'] = rt['cast'].astype('str')\n",
    "    rt['country'] = rt['country'].astype('str')\n",
    "    rt['date_added'] = rt['date_added'].astype('str')\n",
    "    rt['release_year'] = rt['release_year'].astype('int')\n",
    "    rt['rating'] = rt['rating'].astype('str')\n",
    "    rt['duration'] = rt['duration'].astype('str')\n",
    "    rt['listed_in'] = rt['listed_in'].astype('str')\n",
    "    rt['description'] = rt['description'].astype('str')\n",
    "    rt['duration_int'] = rt['duration_int'].astype('int')\n",
    "    rt['duration_type'] = rt['duration_type'].astype('str')"
   ]
  },
  {
   "cell_type": "code",
   "execution_count": 3,
   "metadata": {},
   "outputs": [],
   "source": [
    "#add a new column platform\n",
    "amazon['platform'] = 'amazon'\n",
    "disney['platform'] = 'disney'\n",
    "hulu['platform'] = 'hulu'\n",
    "netflix['platform'] = 'netflix'"
   ]
  },
  {
   "cell_type": "code",
   "execution_count": 7,
   "metadata": {},
   "outputs": [],
   "source": [
    "#Export csv\n",
    "amazon.to_parquet('datasets/amazon.parquet')\n",
    "disney.to_parquet('datasets/disney.parquet')\n",
    "hulu.to_parquet('datasets/hulu.parquet')\n",
    "netflix.to_parquet('datasets/netflix.parquet')"
   ]
  },
  {
   "attachments": {},
   "cell_type": "markdown",
   "metadata": {},
   "source": [
    "<h2>Categories dataset</h2>"
   ]
  },
  {
   "cell_type": "code",
   "execution_count": 2,
   "metadata": {},
   "outputs": [],
   "source": [
    "#load parquet files\n",
    "amazon = pd.read_parquet('datasets/amazon.parquet')\n",
    "disney = pd.read_parquet('datasets/disney.parquet')\n",
    "hulu = pd.read_parquet('datasets/hulu.parquet')\n",
    "netflix = pd.read_parquet('datasets/netflix.parquet') "
   ]
  },
  {
   "cell_type": "code",
   "execution_count": 14,
   "metadata": {},
   "outputs": [],
   "source": [
    "#Extract the genres from multivalue column \n",
    "def categories_table():\n",
    "    series = pd.Series([])\n",
    "    for platform in [amazon, disney, hulu, netflix]:\n",
    "        categories = platform['listed_in'].str.split(',', expand=True)\n",
    "        categories = categories.stack()\n",
    "        categories = categories.str.replace(' ', '')\n",
    "        series = pd.concat([series, categories], ignore_index=True)\n",
    "    y = np.sort(series.unique())\n",
    "    return y"
   ]
  },
  {
   "cell_type": "code",
   "execution_count": null,
   "metadata": {},
   "outputs": [],
   "source": [
    "#use the function\n",
    "cat = categories_table()"
   ]
  },
  {
   "cell_type": "code",
   "execution_count": 18,
   "metadata": {},
   "outputs": [],
   "source": [
    "#creating a new dataframe with id and genres\n",
    "categories = pd.DataFrame({\"id_gen\":[x for x in range(0,len(cat))], \"genres\": cat})"
   ]
  },
  {
   "cell_type": "code",
   "execution_count": 21,
   "metadata": {},
   "outputs": [
    {
     "data": {
      "text/html": [
       "<div>\n",
       "<style scoped>\n",
       "    .dataframe tbody tr th:only-of-type {\n",
       "        vertical-align: middle;\n",
       "    }\n",
       "\n",
       "    .dataframe tbody tr th {\n",
       "        vertical-align: top;\n",
       "    }\n",
       "\n",
       "    .dataframe thead th {\n",
       "        text-align: right;\n",
       "    }\n",
       "</style>\n",
       "<table border=\"1\" class=\"dataframe\">\n",
       "  <thead>\n",
       "    <tr style=\"text-align: right;\">\n",
       "      <th></th>\n",
       "      <th>id_gen</th>\n",
       "      <th>genres</th>\n",
       "    </tr>\n",
       "  </thead>\n",
       "  <tbody>\n",
       "    <tr>\n",
       "      <th>0</th>\n",
       "      <td>0</td>\n",
       "      <td>action</td>\n",
       "    </tr>\n",
       "    <tr>\n",
       "      <th>1</th>\n",
       "      <td>1</td>\n",
       "      <td>action&amp;adventure</td>\n",
       "    </tr>\n",
       "    <tr>\n",
       "      <th>2</th>\n",
       "      <td>2</td>\n",
       "      <td>action-adventure</td>\n",
       "    </tr>\n",
       "    <tr>\n",
       "      <th>3</th>\n",
       "      <td>3</td>\n",
       "      <td>adultanimation</td>\n",
       "    </tr>\n",
       "    <tr>\n",
       "      <th>4</th>\n",
       "      <td>4</td>\n",
       "      <td>adventure</td>\n",
       "    </tr>\n",
       "  </tbody>\n",
       "</table>\n",
       "</div>"
      ],
      "text/plain": [
       "   id_gen            genres\n",
       "0       0            action\n",
       "1       1  action&adventure\n",
       "2       2  action-adventure\n",
       "3       3    adultanimation\n",
       "4       4         adventure"
      ]
     },
     "execution_count": 21,
     "metadata": {},
     "output_type": "execute_result"
    }
   ],
   "source": [
    "categories.head()"
   ]
  },
  {
   "cell_type": "code",
   "execution_count": 22,
   "metadata": {},
   "outputs": [],
   "source": [
    "#save the table into parquet file\n",
    "categories.to_parquet(\"datasets/categories.parquet\", index=False)"
   ]
  },
  {
   "attachments": {},
   "cell_type": "markdown",
   "metadata": {},
   "source": [
    "<h2>Platform_categories dataset</h2>"
   ]
  },
  {
   "cell_type": "code",
   "execution_count": null,
   "metadata": {},
   "outputs": [],
   "source": [
    "#load parquet files\n",
    "amazon = pd.read_parquet('datasets/amazon.parquet')\n",
    "disney = pd.read_parquet('datasets/disney.parquet')\n",
    "hulu = pd.read_parquet('datasets/hulu.parquet')\n",
    "netflix = pd.read_parquet('datasets/netflix.parquet')"
   ]
  },
  {
   "cell_type": "code",
   "execution_count": 3,
   "metadata": {},
   "outputs": [
    {
     "data": {
      "text/html": [
       "<div>\n",
       "<style scoped>\n",
       "    .dataframe tbody tr th:only-of-type {\n",
       "        vertical-align: middle;\n",
       "    }\n",
       "\n",
       "    .dataframe tbody tr th {\n",
       "        vertical-align: top;\n",
       "    }\n",
       "\n",
       "    .dataframe thead th {\n",
       "        text-align: right;\n",
       "    }\n",
       "</style>\n",
       "<table border=\"1\" class=\"dataframe\">\n",
       "  <thead>\n",
       "    <tr style=\"text-align: right;\">\n",
       "      <th></th>\n",
       "      <th>id_gen</th>\n",
       "      <th>genres</th>\n",
       "    </tr>\n",
       "  </thead>\n",
       "  <tbody>\n",
       "    <tr>\n",
       "      <th>0</th>\n",
       "      <td>0</td>\n",
       "      <td>action</td>\n",
       "    </tr>\n",
       "    <tr>\n",
       "      <th>1</th>\n",
       "      <td>1</td>\n",
       "      <td>action&amp;adventure</td>\n",
       "    </tr>\n",
       "    <tr>\n",
       "      <th>2</th>\n",
       "      <td>2</td>\n",
       "      <td>action-adventure</td>\n",
       "    </tr>\n",
       "    <tr>\n",
       "      <th>3</th>\n",
       "      <td>3</td>\n",
       "      <td>adultanimation</td>\n",
       "    </tr>\n",
       "    <tr>\n",
       "      <th>4</th>\n",
       "      <td>4</td>\n",
       "      <td>adventure</td>\n",
       "    </tr>\n",
       "  </tbody>\n",
       "</table>\n",
       "</div>"
      ],
      "text/plain": [
       "   id_gen            genres\n",
       "0       0            action\n",
       "1       1  action&adventure\n",
       "2       2  action-adventure\n",
       "3       3    adultanimation\n",
       "4       4         adventure"
      ]
     },
     "execution_count": 3,
     "metadata": {},
     "output_type": "execute_result"
    }
   ],
   "source": [
    "df = pd.read_parquet('datasets/categories.parquet')\n",
    "df.head()"
   ]
  },
  {
   "cell_type": "code",
   "execution_count": 58,
   "metadata": {},
   "outputs": [],
   "source": [
    "#mapping id from platforms with genres in categories\n",
    "platform_categories = pd.DataFrame(columns=[\"id\",\"genres\"])\n",
    "platforms = [amazon, disney, hulu, netflix]\n",
    "for plat in platforms: \n",
    "    for i in df['genres'].array:\n",
    "        datafr = pd.DataFrame({\"id\":plat['id'].where(plat['listed_in'].str.contains(i)).dropna(), \"genres\": i})\n",
    "        platform_categories = pd.concat([platform_categories, datafr])"
   ]
  },
  {
   "cell_type": "code",
   "execution_count": 60,
   "metadata": {},
   "outputs": [
    {
     "name": "stdout",
     "output_type": "stream",
     "text": [
      "(53775, 2)\n"
     ]
    },
    {
     "data": {
      "text/html": [
       "<div>\n",
       "<style scoped>\n",
       "    .dataframe tbody tr th:only-of-type {\n",
       "        vertical-align: middle;\n",
       "    }\n",
       "\n",
       "    .dataframe tbody tr th {\n",
       "        vertical-align: top;\n",
       "    }\n",
       "\n",
       "    .dataframe thead th {\n",
       "        text-align: right;\n",
       "    }\n",
       "</style>\n",
       "<table border=\"1\" class=\"dataframe\">\n",
       "  <thead>\n",
       "    <tr style=\"text-align: right;\">\n",
       "      <th></th>\n",
       "      <th>id</th>\n",
       "      <th>genres</th>\n",
       "    </tr>\n",
       "  </thead>\n",
       "  <tbody>\n",
       "    <tr>\n",
       "      <th>2</th>\n",
       "      <td>as3</td>\n",
       "      <td>action</td>\n",
       "    </tr>\n",
       "    <tr>\n",
       "      <th>8</th>\n",
       "      <td>as9</td>\n",
       "      <td>action</td>\n",
       "    </tr>\n",
       "    <tr>\n",
       "      <th>21</th>\n",
       "      <td>as22</td>\n",
       "      <td>action</td>\n",
       "    </tr>\n",
       "    <tr>\n",
       "      <th>29</th>\n",
       "      <td>as30</td>\n",
       "      <td>action</td>\n",
       "    </tr>\n",
       "    <tr>\n",
       "      <th>52</th>\n",
       "      <td>as53</td>\n",
       "      <td>action</td>\n",
       "    </tr>\n",
       "  </tbody>\n",
       "</table>\n",
       "</div>"
      ],
      "text/plain": [
       "      id  genres\n",
       "2    as3  action\n",
       "8    as9  action\n",
       "21  as22  action\n",
       "29  as30  action\n",
       "52  as53  action"
      ]
     },
     "execution_count": 60,
     "metadata": {},
     "output_type": "execute_result"
    }
   ],
   "source": [
    "print(platform_categories.shape)\n",
    "platform_categories.head()"
   ]
  },
  {
   "cell_type": "code",
   "execution_count": 7,
   "metadata": {},
   "outputs": [],
   "source": [
    "#mapping genres with its id_gen\n",
    "platform_categories = platform_categories.merge(df, how='left', on='genres')"
   ]
  },
  {
   "cell_type": "code",
   "execution_count": 10,
   "metadata": {},
   "outputs": [
    {
     "data": {
      "text/html": [
       "<div>\n",
       "<style scoped>\n",
       "    .dataframe tbody tr th:only-of-type {\n",
       "        vertical-align: middle;\n",
       "    }\n",
       "\n",
       "    .dataframe tbody tr th {\n",
       "        vertical-align: top;\n",
       "    }\n",
       "\n",
       "    .dataframe thead th {\n",
       "        text-align: right;\n",
       "    }\n",
       "</style>\n",
       "<table border=\"1\" class=\"dataframe\">\n",
       "  <thead>\n",
       "    <tr style=\"text-align: right;\">\n",
       "      <th></th>\n",
       "      <th>id</th>\n",
       "      <th>genres</th>\n",
       "      <th>id_gen</th>\n",
       "    </tr>\n",
       "  </thead>\n",
       "  <tbody>\n",
       "    <tr>\n",
       "      <th>0</th>\n",
       "      <td>as3</td>\n",
       "      <td>action</td>\n",
       "      <td>0</td>\n",
       "    </tr>\n",
       "    <tr>\n",
       "      <th>1</th>\n",
       "      <td>as9</td>\n",
       "      <td>action</td>\n",
       "      <td>0</td>\n",
       "    </tr>\n",
       "    <tr>\n",
       "      <th>2</th>\n",
       "      <td>as22</td>\n",
       "      <td>action</td>\n",
       "      <td>0</td>\n",
       "    </tr>\n",
       "    <tr>\n",
       "      <th>3</th>\n",
       "      <td>as30</td>\n",
       "      <td>action</td>\n",
       "      <td>0</td>\n",
       "    </tr>\n",
       "    <tr>\n",
       "      <th>4</th>\n",
       "      <td>as53</td>\n",
       "      <td>action</td>\n",
       "      <td>0</td>\n",
       "    </tr>\n",
       "  </tbody>\n",
       "</table>\n",
       "</div>"
      ],
      "text/plain": [
       "     id  genres  id_gen\n",
       "0   as3  action       0\n",
       "1   as9  action       0\n",
       "2  as22  action       0\n",
       "3  as30  action       0\n",
       "4  as53  action       0"
      ]
     },
     "execution_count": 10,
     "metadata": {},
     "output_type": "execute_result"
    }
   ],
   "source": [
    "platform_categories.head()"
   ]
  },
  {
   "cell_type": "code",
   "execution_count": 8,
   "metadata": {},
   "outputs": [],
   "source": [
    "#save into parquet file\n",
    "platform_categories.to_parquet('datasets/platforms_categories.parquet', index=False)"
   ]
  },
  {
   "attachments": {},
   "cell_type": "markdown",
   "metadata": {},
   "source": [
    "<h2>Unified ratings dataset</h2>"
   ]
  },
  {
   "cell_type": "code",
   "execution_count": 2,
   "metadata": {},
   "outputs": [],
   "source": [
    "#Load data\n",
    "rating1 = pd.read_csv('datasets/ratings/1.csv')\n",
    "rating2 = pd.read_csv('datasets/ratings/2.csv')\n",
    "rating3 = pd.read_csv('datasets/ratings/3.csv')\n",
    "rating4 = pd.read_csv('datasets/ratings/4.csv')\n",
    "rating5 = pd.read_csv('datasets/ratings/5.csv')\n",
    "rating6 = pd.read_csv('datasets/ratings/6.csv')\n",
    "rating7 = pd.read_csv('datasets/ratings/7.csv')\n",
    "rating8 = pd.read_csv('datasets/ratings/8.csv')\n"
   ]
  },
  {
   "cell_type": "code",
   "execution_count": 3,
   "metadata": {},
   "outputs": [],
   "source": [
    "#concatenate dataframes\n",
    "unified = pd.concat([rating1, rating2, rating3, rating4, rating5, rating6, rating7, rating8])"
   ]
  },
  {
   "cell_type": "code",
   "execution_count": 4,
   "metadata": {},
   "outputs": [],
   "source": [
    "#change timestamp to datetime\n",
    "unified['timestamp'] = pd.to_datetime(unified['timestamp'], unit='s')"
   ]
  },
  {
   "cell_type": "code",
   "execution_count": 6,
   "metadata": {},
   "outputs": [
    {
     "data": {
      "text/html": [
       "<div>\n",
       "<style scoped>\n",
       "    .dataframe tbody tr th:only-of-type {\n",
       "        vertical-align: middle;\n",
       "    }\n",
       "\n",
       "    .dataframe tbody tr th {\n",
       "        vertical-align: top;\n",
       "    }\n",
       "\n",
       "    .dataframe thead th {\n",
       "        text-align: right;\n",
       "    }\n",
       "</style>\n",
       "<table border=\"1\" class=\"dataframe\">\n",
       "  <thead>\n",
       "    <tr style=\"text-align: right;\">\n",
       "      <th></th>\n",
       "      <th>userId</th>\n",
       "      <th>rating</th>\n",
       "      <th>timestamp</th>\n",
       "      <th>movieId</th>\n",
       "    </tr>\n",
       "  </thead>\n",
       "  <tbody>\n",
       "    <tr>\n",
       "      <th>0</th>\n",
       "      <td>1</td>\n",
       "      <td>1.0</td>\n",
       "      <td>2015-03-09 22:52:09</td>\n",
       "      <td>as680</td>\n",
       "    </tr>\n",
       "    <tr>\n",
       "      <th>1</th>\n",
       "      <td>1</td>\n",
       "      <td>4.5</td>\n",
       "      <td>2015-03-09 23:07:15</td>\n",
       "      <td>ns2186</td>\n",
       "    </tr>\n",
       "    <tr>\n",
       "      <th>2</th>\n",
       "      <td>1</td>\n",
       "      <td>5.0</td>\n",
       "      <td>2015-03-09 22:52:03</td>\n",
       "      <td>hs2381</td>\n",
       "    </tr>\n",
       "    <tr>\n",
       "      <th>3</th>\n",
       "      <td>1</td>\n",
       "      <td>5.0</td>\n",
       "      <td>2015-03-09 22:52:26</td>\n",
       "      <td>ns3663</td>\n",
       "    </tr>\n",
       "    <tr>\n",
       "      <th>4</th>\n",
       "      <td>1</td>\n",
       "      <td>5.0</td>\n",
       "      <td>2015-03-09 22:52:36</td>\n",
       "      <td>as9500</td>\n",
       "    </tr>\n",
       "  </tbody>\n",
       "</table>\n",
       "</div>"
      ],
      "text/plain": [
       "   userId  rating           timestamp movieId\n",
       "0       1     1.0 2015-03-09 22:52:09   as680\n",
       "1       1     4.5 2015-03-09 23:07:15  ns2186\n",
       "2       1     5.0 2015-03-09 22:52:03  hs2381\n",
       "3       1     5.0 2015-03-09 22:52:26  ns3663\n",
       "4       1     5.0 2015-03-09 22:52:36  as9500"
      ]
     },
     "execution_count": 6,
     "metadata": {},
     "output_type": "execute_result"
    }
   ],
   "source": [
    "unified.head()"
   ]
  },
  {
   "cell_type": "code",
   "execution_count": null,
   "metadata": {},
   "outputs": [],
   "source": [
    "dt1 = unified.iloc[:3674763,:]\n",
    "dt2 = unified.iloc[3674763:7349526,:]\n",
    "dt3 = unified.iloc[7349526:,:]"
   ]
  },
  {
   "cell_type": "code",
   "execution_count": 8,
   "metadata": {},
   "outputs": [],
   "source": [
    "#Export in parquet format for memory issues \n",
    "dt1.to_parquet('datasets/ratings/ratings_unified1.parquet')\n",
    "dt2.to_parquet('datasets/ratings/ratings_unified2.parquet')\n",
    "dt3.to_parquet('datasets/ratings/ratings_unified3.parquet')"
   ]
  }
 ],
 "metadata": {
  "kernelspec": {
   "display_name": "Python 3",
   "language": "python",
   "name": "python3"
  },
  "language_info": {
   "codemirror_mode": {
    "name": "ipython",
    "version": 3
   },
   "file_extension": ".py",
   "mimetype": "text/x-python",
   "name": "python",
   "nbconvert_exporter": "python",
   "pygments_lexer": "ipython3",
   "version": "3.11.3"
  },
  "orig_nbformat": 4
 },
 "nbformat": 4,
 "nbformat_minor": 2
}
