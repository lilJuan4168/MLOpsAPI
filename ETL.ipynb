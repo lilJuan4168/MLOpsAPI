{
 "cells": [
  {
   "cell_type": "code",
   "execution_count": 1,
   "metadata": {},
   "outputs": [],
   "source": [
    "import numpy as np\n",
    "import pandas as pd"
   ]
  },
  {
   "attachments": {},
   "cell_type": "markdown",
   "metadata": {},
   "source": [
    "<h4>Transformacion de datasets plataformas de streaming</h4>"
   ]
  },
  {
   "cell_type": "code",
   "execution_count": 2,
   "metadata": {},
   "outputs": [],
   "source": [
    "#Cargar los datasets\n",
    "amazon = pd.read_csv('datasets/amazon_prime_titles.csv')\n",
    "disney = pd.read_csv('datasets/disney_plus_titles.csv')\n",
    "hulu = pd.read_csv('datasets/hulu_titles.csv')\n",
    "netflix = pd.read_csv('datasets/netflix_titles.csv')"
   ]
  },
  {
   "cell_type": "code",
   "execution_count": null,
   "metadata": {},
   "outputs": [],
   "source": [
    "#Agregar columna id con la inicial de cada plataforma\n",
    "amazon.insert(0, 'id', 'a' + amazon['show_id'].astype('string'))\n",
    "disney.insert(0, 'id', 'd' + disney['show_id'].astype('string'))\n",
    "hulu.insert(0, 'id', 'h' + hulu['show_id'].astype('string'))\n",
    "netflix.insert(0, 'id', 'n' + netflix['show_id'].astype('string'))\n"
   ]
  },
  {
   "cell_type": "code",
   "execution_count": 6,
   "metadata": {},
   "outputs": [],
   "source": [
    "#Agregar 'G' en las filas faltantes del atributo rating\n",
    "amazon['rating'] = amazon['rating'].fillna('G')\n",
    "disney['rating'] = disney['rating'].fillna('G')\n",
    "hulu['rating'] = hulu['rating'].fillna('G')\n",
    "netflix['rating'] = netflix['rating'].fillna('G')\n"
   ]
  },
  {
   "cell_type": "code",
   "execution_count": 7,
   "metadata": {},
   "outputs": [],
   "source": [
    "#Transformar fechas al formato yyy-mm-dd\n",
    "amazon['date_added'] = pd.to_datetime(amazon['date_added'])\n",
    "disney['date_added'] = pd.to_datetime(disney['date_added'])\n",
    "hulu['date_added'] = pd.to_datetime(hulu['date_added'])\n",
    "netflix['date_added'] = pd.to_datetime(netflix['date_added'])"
   ]
  },
  {
   "cell_type": "code",
   "execution_count": 8,
   "metadata": {},
   "outputs": [],
   "source": [
    "#Dividir la columna duration en duration_int y duration_type\n",
    "amazon[['duration_int', 'duration_type']] = amazon.duration.str.split(' ', expand=True)\n",
    "disney[['duration_int', 'duration_type']] = disney.duration.str.split(' ', expand=True)\n",
    "hulu[['duration_int', 'duration_type']] = hulu.duration.str.split(' ', expand=True)\n",
    "netflix[['duration_int', 'duration_type']] = netflix.duration.str.split(' ', expand=True)"
   ]
  },
  {
   "cell_type": "code",
   "execution_count": 9,
   "metadata": {},
   "outputs": [],
   "source": [
    "#Cambiar todo el texto a minusculas\n",
    "listcolum = ['type','title','director','cast','country','listed_in','description','duration_type']\n",
    "for item in listcolum:\n",
    "    amazon[item] = amazon[item].str.lower()\n",
    "for item in listcolum:\n",
    "    disney[item] = disney[item].str.lower()\n",
    "for item in listcolum:\n",
    "    hulu[item] = hulu[item].astype('string') \n",
    "for item in listcolum:\n",
    "    hulu[item] = hulu[item].str.lower()  \n",
    "for item in listcolum:\n",
    "    netflix[item] = netflix[item].str.lower()      "
   ]
  },
  {
   "cell_type": "code",
   "execution_count": 10,
   "metadata": {},
   "outputs": [],
   "source": [
    "#Export csv\n",
    "amazon.to_parquet('./transformed_datasets/amazon.parquet')\n",
    "disney.to_parquet('./transformed_datasets/disney.parquet')\n",
    "hulu.to_parquet('./transformed_datasets/hulu.parquet')\n",
    "netflix.to_parquet('./transformed_datasets/netflix.parquet')"
   ]
  },
  {
   "attachments": {},
   "cell_type": "markdown",
   "metadata": {},
   "source": [
    "<h4>Transformacion de datasets ratings</h4>"
   ]
  },
  {
   "cell_type": "code",
   "execution_count": 3,
   "metadata": {},
   "outputs": [],
   "source": [
    "data = pd.read_csv('ratings/ratings_u.csv')"
   ]
  },
  {
   "cell_type": "code",
   "execution_count": null,
   "metadata": {},
   "outputs": [],
   "source": [
    "data['timestamp'] = pd.to_datetime(data['timestamp'], unit='s')\n",
    "data = data.drop(columns=['Unnamed: 0'])"
   ]
  },
  {
   "cell_type": "code",
   "execution_count": 6,
   "metadata": {},
   "outputs": [],
   "source": [
    "data.to_parquet('transformed_datasets/ratings_unified.parquet')"
   ]
  }
 ],
 "metadata": {
  "kernelspec": {
   "display_name": "Python 3",
   "language": "python",
   "name": "python3"
  },
  "language_info": {
   "codemirror_mode": {
    "name": "ipython",
    "version": 3
   },
   "file_extension": ".py",
   "mimetype": "text/x-python",
   "name": "python",
   "nbconvert_exporter": "python",
   "pygments_lexer": "ipython3",
   "version": "3.10.6"
  },
  "orig_nbformat": 4
 },
 "nbformat": 4,
 "nbformat_minor": 2
}
